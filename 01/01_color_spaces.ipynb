{
 "cells": [
  {
   "cell_type": "code",
   "execution_count": 1,
   "metadata": {},
   "outputs": [],
   "source": [
    "import cv2\n",
    "import numpy as np"
   ]
  },
  {
   "cell_type": "markdown",
   "metadata": {},
   "source": [
    "# Espacios de color\n",
    "\n",
    "es una de las utilizades que nos permiten manipular las imagenes ppara despues agregar filtros y ejecutar distintas operaciones con ellas.\n",
    "\n",
    "- `cvtColor(img, cv2.FUNCION_DE_CONVERSION)` es una función de OpenCV que se utiliza para convertir una imagen de un espacio de color a otro. En este caso, la función se llama con dos argumentos:\n",
    "    - `img`: Es la imagen que se desea convertir.\n",
    "    - `FUNCION_DE_CONVERSION`: Es un código constante definido en OpenCV que indica que se desea convertir la imagen del espacio de color RGB (Rojo, Verde, Azul) a los diferentes espacis de color disponibles."
   ]
  },
  {
   "cell_type": "code",
   "execution_count": 2,
   "metadata": {},
   "outputs": [],
   "source": [
    "img = cv2.imread('./1/2PH7Y1~C.JPG')"
   ]
  },
  {
   "cell_type": "code",
   "execution_count": 4,
   "metadata": {},
   "outputs": [],
   "source": [
    "while True:\n",
    "    cv2.imshow(\"imagen\", img)\n",
    "\n",
    "    key = cv2.waitKey()\n",
    "    if key == ord(\"q\"):\n",
    "        break\n",
    "cv2.destroyAllWindows()"
   ]
  },
  {
   "cell_type": "markdown",
   "metadata": {},
   "source": [
    "# Espacios BGR\n",
    "\n",
    "Leeremos la imagen en original con todos sus canales y posteriormente dividiremos la imagen en sus tres canales de color, azul, verde, rojo.\n",
    "\n",
    "En este caso open cv trabajo los canales en este orde, Blue, Green, Red (B,G,R).\n",
    "\n",
    "Posteriormente asignaremos esto canales a otra imagen pormedio del metodo **`merge`**"
   ]
  },
  {
   "cell_type": "code",
   "execution_count": 3,
   "metadata": {},
   "outputs": [],
   "source": [
    "B, G, R = cv2.split(img)\n",
    "img2 = cv2.merge((B,G,R))"
   ]
  },
  {
   "cell_type": "markdown",
   "metadata": {},
   "source": [
    "Generaremos una ventana para cada uno de los canales y al final mostraremos que la union de estos canales nos devolvera la imagen original."
   ]
  },
  {
   "cell_type": "code",
   "execution_count": 8,
   "metadata": {},
   "outputs": [],
   "source": [
    "cv2.namedWindow(\"B\", cv2.WINDOW_NORMAL)\n",
    "cv2.namedWindow(\"G\", cv2.WINDOW_NORMAL)\n",
    "cv2.namedWindow(\"R\", cv2.WINDOW_NORMAL)\n",
    "cv2.namedWindow(\"BGR2\", cv2.WINDOW_NORMAL)\n",
    "cv2.imshow(\"RGB\", img)\n",
    "cv2.imshow(\"B\", R)\n",
    "cv2.imshow(\"G\", R)\n",
    "cv2.imshow(\"R\", R)\n",
    "cv2.imshow(\"BGR2\", img2)\n",
    "\n",
    "cv2.waitKey()\n",
    "cv2.destroyAllWindows()"
   ]
  },
  {
   "cell_type": "markdown",
   "metadata": {},
   "source": [
    "# Espacios HRV\n",
    "\n",
    "Este espacio es mayormente utilizado para la deteccion de obejtos mediante color."
   ]
  },
  {
   "cell_type": "markdown",
   "metadata": {},
   "source": [
    "**Ejemplo** \n",
    "\n",
    "- Convertiremos la imagen original que viene ne bgr a hsv por emdio de la funcion `COLOR_BGR2HSV`\n",
    "- Division de canales: `COLOR_BGR2HSV` Esta funcion convierte la imagen del espacio BGR al espacio de color HSV (tono, saturacion, valor). \n",
    "    Por defecto opencv trabaja con el espacio de color bgr pero en ciertas areas de cprocesamiento es mas util el espacio hsv.\n",
    "    - `h, s, v = cv2.split(hsv)` Por medio del metodo split de cv2 separamos los canales.\n",
    "- Mostraremos el resultado de la conversion de la imagen a hsv\n",
    "- Posteriormente mostraremos cada canal. \n",
    "\n",
    "\n"
   ]
  },
  {
   "cell_type": "code",
   "execution_count": 9,
   "metadata": {},
   "outputs": [],
   "source": [
    "hsv = cv2.cvtColor(img, cv2.COLOR_BGR2HSV)\n",
    "h,s,v = cv2.split(hsv)"
   ]
  },
  {
   "cell_type": "code",
   "execution_count": 10,
   "metadata": {},
   "outputs": [],
   "source": [
    "cv2.imshow(\"hsv\", hsv)\n",
    "cv2.waitKey()\n",
    "cv2.destroyAllWindows()\n"
   ]
  },
  {
   "cell_type": "code",
   "execution_count": 11,
   "metadata": {},
   "outputs": [],
   "source": [
    "cv2.namedWindow(\"H\", cv2.WINDOW_NORMAL)\n",
    "cv2.namedWindow(\"S\", cv2.WINDOW_NORMAL)\n",
    "cv2.namedWindow(\"V\", cv2.WINDOW_NORMAL)\n",
    "# cv2.namedWindow(\"BGR2\", cv2.WINDOW_NORMAL)\n",
    "# cv2.imshow(\"RGB\", img)\n",
    "cv2.imshow(\"H\", h)\n",
    "cv2.imshow(\"S\", s)\n",
    "cv2.imshow(\"V\", v)\n",
    "# cv2.imshow(\"BGR2\", img2)\n",
    "cv2.waitKey()\n",
    "cv2.destroyAllWindows()"
   ]
  },
  {
   "cell_type": "markdown",
   "metadata": {},
   "source": [
    "# Espacio de color en escala de grises\n",
    "\n",
    "En este caso la funcion es muy sencilla y explica por si sola su funcionamiento.\n",
    "Finalmente mostramos el resultado."
   ]
  },
  {
   "cell_type": "code",
   "execution_count": 12,
   "metadata": {},
   "outputs": [],
   "source": [
    "gray = cv2.cvtColor(img, cv2.COLOR_RGB2GRAY)"
   ]
  },
  {
   "cell_type": "code",
   "execution_count": 14,
   "metadata": {},
   "outputs": [],
   "source": [
    "cv2.imshow(\"Escala de grises\", gray)\n",
    "cv2.imshow(\"Original\", img)\n",
    "cv2.waitKey()\n",
    "cv2.destroyAllWindows()"
   ]
  }
 ],
 "metadata": {
  "kernelspec": {
   "display_name": "Python 3",
   "language": "python",
   "name": "python3"
  },
  "language_info": {
   "codemirror_mode": {
    "name": "ipython",
    "version": 3
   },
   "file_extension": ".py",
   "mimetype": "text/x-python",
   "name": "python",
   "nbconvert_exporter": "python",
   "pygments_lexer": "ipython3",
   "version": "3.10.12"
  }
 },
 "nbformat": 4,
 "nbformat_minor": 2
}
