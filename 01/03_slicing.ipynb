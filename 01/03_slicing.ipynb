{
 "cells": [
  {
   "cell_type": "markdown",
   "metadata": {},
   "source": [
    "# Slicing\n",
    "\n",
    "El slicing (corte) es una técnica fundamental en Python para extraer subconjuntos de elementos de secuencias, como listas, cadenas de texto y tuplas. Permite seleccionar partes específicas de una secuencia sin necesidad de recorrerla en su totalidad.\n",
    "\n",
    "- **Sintaxis**\n",
    "\n",
    "`secuencia[inicio:final:paso]`\n",
    "\n",
    "- **secuencia**: La secuencia de la que se quieren extraer elementos.\n",
    "- **inicio**: (Opcional) El índice del primer elemento a incluir (por defecto, 0).\n",
    "- **final**: (Opcional) El índice del primer elemento a no incluir (por defecto, la longitud de la secuencia).\n",
    "- **paso**: (Opcional) La cantidad de posiciones en que se salta entre elementos (por defecto, 1)."
   ]
  },
  {
   "cell_type": "markdown",
   "metadata": {},
   "source": [
    "1. Extraer elementos especificos"
   ]
  },
  {
   "cell_type": "code",
   "execution_count": 2,
   "metadata": {},
   "outputs": [],
   "source": [
    "\n",
    "my_list = [1, 2, 3, 4, 5]\n",
    "\n",
    "el1 = my_list[2]    # 3\n",
    "el2 = my_list[-1]   # 5\n",
    "el3 = my_list[-2]   # 4"
   ]
  },
  {
   "cell_type": "markdown",
   "metadata": {},
   "source": [
    "2. Invertir una secuencia:"
   ]
  },
  {
   "cell_type": "code",
   "execution_count": 3,
   "metadata": {},
   "outputs": [
    {
     "data": {
      "text/plain": [
       "[5, 4, 3, 2, 1]"
      ]
     },
     "execution_count": 3,
     "metadata": {},
     "output_type": "execute_result"
    }
   ],
   "source": [
    "\n",
    "list_inv = my_list[::-1]\n",
    "list_inv"
   ]
  },
  {
   "cell_type": "markdown",
   "metadata": {},
   "source": [
    "3. Extraer cada dos elementos"
   ]
  },
  {
   "cell_type": "code",
   "execution_count": 6,
   "metadata": {},
   "outputs": [
    {
     "data": {
      "text/plain": [
       "[1, 3, 5]"
      ]
     },
     "execution_count": 6,
     "metadata": {},
     "output_type": "execute_result"
    }
   ],
   "source": [
    "sublist = my_list[::2]\n",
    "sublist"
   ]
  },
  {
   "cell_type": "markdown",
   "metadata": {},
   "source": [
    "4. Extraer elementos de rango par"
   ]
  },
  {
   "cell_type": "code",
   "execution_count": 10,
   "metadata": {},
   "outputs": [
    {
     "data": {
      "text/plain": [
       "[2, 4]"
      ]
     },
     "execution_count": 10,
     "metadata": {},
     "output_type": "execute_result"
    }
   ],
   "source": [
    "even_sublist = my_list[1::2]\n",
    "even_sublist"
   ]
  }
 ],
 "metadata": {
  "kernelspec": {
   "display_name": "Python 3",
   "language": "python",
   "name": "python3"
  },
  "language_info": {
   "codemirror_mode": {
    "name": "ipython",
    "version": 3
   },
   "file_extension": ".py",
   "mimetype": "text/x-python",
   "name": "python",
   "nbconvert_exporter": "python",
   "pygments_lexer": "ipython3",
   "version": "3.10.12"
  }
 },
 "nbformat": 4,
 "nbformat_minor": 2
}
