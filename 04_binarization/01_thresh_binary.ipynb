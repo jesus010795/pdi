{
 "cells": [
  {
   "cell_type": "markdown",
   "metadata": {},
   "source": [
    "# Umbralizacion de imagenes\n",
    "\n",
    "La umbralización de imágenes es una técnica de procesamiento de imágenes digital que se utiliza para convertir una imagen en escala de grises o a color en una imagen binaria (en blanco y negro). Esto se logra asignando cada píxel de la imagen original a uno de dos valores posibles (generalmente negro o blanco) en función de su valor de intensidad.\n",
    "\n",
    "La umbralización tiene varias aplicaciones en el procesamiento de imágenes, como:\n",
    "\n",
    "- Segmentación de objetos: Se puede utilizar para separar objetos de interés del fondo en una imagen.\n",
    "- Extracción de características: Se puede utilizar para extraer características específicas de una imagen, como bordes o formas.\n",
    "- Reducción de ruido: Puede ayudar a reducir el ruido en una imagen al eliminar píxeles con valores de intensidad que no son relevantes para el objeto de interés.\n",
    "- Mejora del contraste: Puede mejorar el contraste de una imagen al separar mejor las regiones claras y oscuras.\n",
    "- Preparación para otras técnicas: Se puede utilizar como paso previo para otras técnicas de procesamiento de imágenes, como el análisis de texturas o el reconocimiento de patrones.\n",
    "\n",
    "OpenCV proporciona la función `cv2.threshold()` para realizar la umbralización de imágenes. La función toma tres argumentos principales:\n",
    "\n",
    "`Imagen`: La imagen de entrada que se desea umbralizar.\n",
    "`Umbral`: Un valor de intensidad que se utiliza como punto de corte para la binarización. Los píxeles con valores de intensidad mayores que el umbral se asignan a un valor (generalmente blanco), mientras que los píxeles con valores de intensidad menores o iguales al umbral se asignan a otro valor (generalmente negro).\n",
    "`Valor máximo`: El valor que se asigna a los píxeles que superan el umbral.\n",
    "\n",
    "Tipos de umbralización:\n",
    "\n",
    "OpenCV ofrece diferentes modos de umbralización que determinan cómo se comparan los valores de intensidad de los píxeles con el umbral:\n",
    "\n",
    "- Umbralización binaria `(THRESH_BINARY)`: Asigna 0 (negro) a los píxeles menores o iguales que el umbral y 255 (blanco) a los píxeles mayores que el umbral.\n",
    "- Umbralización inversa binaria `(THRESH_BINARY_INV)`: Invierte la umbralización binaria. Asigna 255 (blanco) a los píxeles menores o iguales que el umbral y 0 (negro) a los píxeles mayores que el umbral.\n",
    "- Umbralización de truncamiento `(THRESH_TRUNC)`: Asigna 0 (negro) a los píxeles menores o iguales que el umbral y conserva el valor original de los píxeles mayores que el umbral.\n",
    "- Umbralización a cero `(THRESH_TOZERO)`: Asigna 0 (negro) a los píxeles menores o iguales que el umbral y mantiene el valor original de los píxeles mayores que el umbral.\n",
    "- Umbralización a cero inverso `(THRESH_TOZERO_INV)`: Invierte la umbralización a cero. Asigna el valor original de los píxeles menores o iguales que el umbral y 0 (negro) a los píxeles mayores que el umbral."
   ]
  },
  {
   "cell_type": "code",
   "execution_count": 5,
   "metadata": {},
   "outputs": [],
   "source": [
    "import cv2 as cv\n",
    "# /home/pigore/vision_python/PDI/img/0_r1.JPG\n",
    "# /home/pigore/vision_python/PDI/img/27F285~O.JPG\n",
    "# /home/pigore/vision_python/PDI/img/27P1TX~A.JPG\n",
    "# /home/pigore/vision_python/PDI/1/2HDO96~W.JPG\n",
    "# /home/pigore/vision_python/PDI/1/2H3ONJ~3.JPG\n",
    "img0 = cv.imread('../1/2HDO96~W.JPG') #0\n",
    "# img1 = cv.imread('../1/2H3ONJ~3.JPG') #1\n",
    "\n",
    "img1 = cv.imread('../img/27P1TX~A.JPG') #0\n",
    "# img1 = cv.imread('../img/1_r1.JPG') #0\n",
    "# img0 = cv.imread('../img/0_r1.JPG')"
   ]
  },
  {
   "cell_type": "code",
   "execution_count": 7,
   "metadata": {},
   "outputs": [],
   "source": [
    "_, th1 = cv.threshold(img1, 100, 255, cv.THRESH_BINARY)\n",
    "_, th0 = cv.threshold(img0, 120, 255, cv.THRESH_BINARY)\n",
    "\n",
    "\n",
    "cv.namedWindow(\"Binario 0\", cv.WINDOW_NORMAL)\n",
    "cv.namedWindow(\"Original 0\", cv.WINDOW_NORMAL)\n",
    "cv.namedWindow(\"Binario 1\", cv.WINDOW_NORMAL)\n",
    "cv.namedWindow(\"Original 1\", cv.WINDOW_NORMAL)\n",
    "\n",
    "cv.imshow('Binario 1', th1)\n",
    "cv.imshow('Original 1', img1)\n",
    "cv.imshow('Binario 0', th0)\n",
    "cv.imshow('Original 0', img0)\n",
    "\n",
    "cv.waitKey()\n",
    "cv.destroyAllWindows()"
   ]
  }
 ],
 "metadata": {
  "kernelspec": {
   "display_name": "Python 3",
   "language": "python",
   "name": "python3"
  },
  "language_info": {
   "codemirror_mode": {
    "name": "ipython",
    "version": 3
   },
   "file_extension": ".py",
   "mimetype": "text/x-python",
   "name": "python",
   "nbconvert_exporter": "python",
   "pygments_lexer": "ipython3",
   "version": "3.10.12"
  }
 },
 "nbformat": 4,
 "nbformat_minor": 2
}
